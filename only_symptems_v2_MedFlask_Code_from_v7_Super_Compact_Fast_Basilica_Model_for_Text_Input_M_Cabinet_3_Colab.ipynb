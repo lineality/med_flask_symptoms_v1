{
  "nbformat": 4,
  "nbformat_minor": 0,
  "metadata": {
    "colab": {
      "name": "only symptems v2 MedFlask Code from v7 Super_Compact Fast Basilica Model for Text_Input M_Cabinet_3 Colab.ipynb",
      "provenance": [],
      "collapsed_sections": []
    },
    "kernelspec": {
      "name": "python3",
      "display_name": "Python 3"
    }
  },
  "cells": [
    {
      "cell_type": "code",
      "metadata": {
        "id": "MLlJPgjJ6DMY",
        "colab_type": "code",
        "colab": {}
      },
      "source": [
        ""
      ],
      "execution_count": 0,
      "outputs": []
    },
    {
      "cell_type": "code",
      "metadata": {
        "id": "MIWf3U2t6JnW",
        "colab_type": "code",
        "colab": {}
      },
      "source": [
        ""
      ],
      "execution_count": 0,
      "outputs": []
    },
    {
      "cell_type": "markdown",
      "metadata": {
        "id": "E7soeJeR57po",
        "colab_type": "text"
      },
      "source": [
        "#symptom function with 4 spaces to the tab"
      ]
    },
    {
      "cell_type": "code",
      "metadata": {
        "id": "ZxOr18ux58Ax",
        "colab_type": "code",
        "outputId": "60face4e-02fd-4661-93dd-c9db75f655d5",
        "colab": {
          "base_uri": "https://localhost:8080/",
          "height": 983
        }
      },
      "source": [
        "# install basilica\n",
        "!pip install basilica\n",
        "import basilica\n",
        "import numpy as np\n",
        "import pandas as pd\n",
        "from scipy import spatial\n",
        "\n",
        "!wget https://github.com/lineality/4.4_Build_files/raw/master/symptommedembedv1.pkl\n",
        "!wget https://github.com/lineality/4.4_Build_files/raw/master/symptoms2_medcab3.csv\n",
        "\n",
        "# user input\n",
        "user_input_symptom = \"pain\"\n",
        "\n",
        "\n",
        "\n",
        "\n",
        "# ominbus function\n",
        "def predict_symptom(user_input_symptom):\n",
        "\n",
        "    # turn data into dataframe\n",
        "    df = pd.read_csv('symptoms2_medcab3.csv')\n",
        "    \n",
        "    # get pickled trained embeddings for med cultivars\n",
        "    unpickled_df_test2 = pd.read_pickle(\"./symptommedembedv1.pkl\")\n",
        "\n",
        "    # Part 1\n",
        "    # maybe make a function to perform the last few steps\n",
        "    # a function to calculate_user_text_embedding\n",
        "    # to save the embedding value in session memory\n",
        "    user_input_embedding2 = 0\n",
        "\n",
        "    def calculate_user_text_embedding(input, user_input_embedding2):\n",
        "\n",
        "        # setting a string of two sentences for the algo to compare\n",
        "        sentences = [input]\n",
        "\n",
        "        # calculating embedding for both user_entered_text and for features\n",
        "        with basilica.Connection('36a370e3-becb-99f5-93a0-a92344e78eab') as c:\n",
        "            user_input_embedding = list(c.embed_sentences(sentences))\n",
        "        \n",
        "        return user_input_embedding2\n",
        "\n",
        "    # run the function to save the embedding value in session memory\n",
        "    user_input_embedding2 = calculate_user_text_embedding(user_input_symptom, user_input_embedding2)\n",
        "\n",
        "\n",
        "\n",
        "\n",
        "    # part 2\n",
        "    score = 0\n",
        "\n",
        "    def score_user_input_from_stored_embedding_from_stored_values(input, score, row1, user_input_embedding):\n",
        "\n",
        "        # obtains pre-calculated values from a pickled dataframe of arrays\n",
        "        embedding_stored2 = unpickled_df_test2.loc[row1, 0]\n",
        "        \n",
        "        # calculates the similarity of user_text vs. product description\n",
        "        score = 1 - spatial.distance.cosine(embedding_stored2, user_input_embedding2)\n",
        "\n",
        "        # returns a variable that can be used outside of the function\n",
        "        return score\n",
        "\n",
        "\n",
        "    # Part 3\n",
        "    for i in range(2351):\n",
        "        # calls the function to set the value of 'score'\n",
        "        # which is the score of the user input\n",
        "        score = score_user_input_from_stored_embedding_from_stored_values(user_input_symptom, score, i, user_input_embedding2)\n",
        "        \n",
        "        #stores the score in the dataframe\n",
        "        df.loc[i,'score'] = score\n",
        "\n",
        "    # Part 4: returns all data for the top 5 results as a json obj\n",
        "    df_big_json = df['score'].sort_values(ascending=False)\n",
        "    df_big_json = df.copy()\n",
        "    df_big_json = df_big_json[:5]\n",
        "    df_big_json = df_big_json.to_json(orient='columns')\n",
        "\n",
        "    # Part 5: output\n",
        "    return df_big_json\n",
        "\n",
        "predict_symptom(user_input_symptom)"
      ],
      "execution_count": 1,
      "outputs": [
        {
          "output_type": "stream",
          "text": [
            "Collecting basilica\n",
            "  Downloading https://files.pythonhosted.org/packages/68/19/6216f1c0ad6d0f738bd1061cb5c65097021b41f3891046fac87bc4c4e1ae/basilica-0.2.8.tar.gz\n",
            "Requirement already satisfied: requests in /usr/local/lib/python3.6/dist-packages (from basilica) (2.21.0)\n",
            "Requirement already satisfied: six in /usr/local/lib/python3.6/dist-packages (from basilica) (1.12.0)\n",
            "Requirement already satisfied: Pillow in /usr/local/lib/python3.6/dist-packages (from basilica) (4.3.0)\n",
            "Requirement already satisfied: certifi>=2017.4.17 in /usr/local/lib/python3.6/dist-packages (from requests->basilica) (2019.11.28)\n",
            "Requirement already satisfied: idna<2.9,>=2.5 in /usr/local/lib/python3.6/dist-packages (from requests->basilica) (2.8)\n",
            "Requirement already satisfied: urllib3<1.25,>=1.21.1 in /usr/local/lib/python3.6/dist-packages (from requests->basilica) (1.24.3)\n",
            "Requirement already satisfied: chardet<3.1.0,>=3.0.2 in /usr/local/lib/python3.6/dist-packages (from requests->basilica) (3.0.4)\n",
            "Requirement already satisfied: olefile in /usr/local/lib/python3.6/dist-packages (from Pillow->basilica) (0.46)\n",
            "Building wheels for collected packages: basilica\n",
            "  Building wheel for basilica (setup.py) ... \u001b[?25l\u001b[?25hdone\n",
            "  Created wheel for basilica: filename=basilica-0.2.8-cp36-none-any.whl size=4710 sha256=778800a68465242a4322fe71631ecc1aa745dfc3e119d24041df46bd0ba68a30\n",
            "  Stored in directory: /root/.cache/pip/wheels/31/18/9f/46f6face8baf98e31b52bf91a0d76930ec76860f9e9211104d\n",
            "Successfully built basilica\n",
            "Installing collected packages: basilica\n",
            "Successfully installed basilica-0.2.8\n",
            "--2020-01-07 22:04:33--  https://github.com/lineality/4.4_Build_files/raw/master/symptommedembedv1.pkl\n",
            "Resolving github.com (github.com)... 140.82.118.3\n",
            "Connecting to github.com (github.com)|140.82.118.3|:443... connected.\n",
            "HTTP request sent, awaiting response... 302 Found\n",
            "Location: https://raw.githubusercontent.com/lineality/4.4_Build_files/master/symptommedembedv1.pkl [following]\n",
            "--2020-01-07 22:04:33--  https://raw.githubusercontent.com/lineality/4.4_Build_files/master/symptommedembedv1.pkl\n",
            "Resolving raw.githubusercontent.com (raw.githubusercontent.com)... 151.101.0.133, 151.101.64.133, 151.101.128.133, ...\n",
            "Connecting to raw.githubusercontent.com (raw.githubusercontent.com)|151.101.0.133|:443... connected.\n",
            "HTTP request sent, awaiting response... 200 OK\n",
            "Length: 16288303 (16M) [application/octet-stream]\n",
            "Saving to: ‘symptommedembedv1.pkl’\n",
            "\n",
            "symptommedembedv1.p 100%[===================>]  15.53M  --.-KB/s    in 0.1s    \n",
            "\n",
            "2020-01-07 22:04:34 (116 MB/s) - ‘symptommedembedv1.pkl’ saved [16288303/16288303]\n",
            "\n",
            "--2020-01-07 22:04:35--  https://github.com/lineality/4.4_Build_files/raw/master/symptoms2_medcab3.csv\n",
            "Resolving github.com (github.com)... 140.82.118.3\n",
            "Connecting to github.com (github.com)|140.82.118.3|:443... connected.\n",
            "HTTP request sent, awaiting response... 302 Found\n",
            "Location: https://raw.githubusercontent.com/lineality/4.4_Build_files/master/symptoms2_medcab3.csv [following]\n",
            "--2020-01-07 22:04:35--  https://raw.githubusercontent.com/lineality/4.4_Build_files/master/symptoms2_medcab3.csv\n",
            "Resolving raw.githubusercontent.com (raw.githubusercontent.com)... 151.101.0.133, 151.101.64.133, 151.101.128.133, ...\n",
            "Connecting to raw.githubusercontent.com (raw.githubusercontent.com)|151.101.0.133|:443... connected.\n",
            "HTTP request sent, awaiting response... 200 OK\n",
            "Length: 1333418 (1.3M) [text/plain]\n",
            "Saving to: ‘symptoms2_medcab3.csv’\n",
            "\n",
            "symptoms2_medcab3.c 100%[===================>]   1.27M  --.-KB/s    in 0.05s   \n",
            "\n",
            "2020-01-07 22:04:35 (24.3 MB/s) - ‘symptoms2_medcab3.csv’ saved [1333418/1333418]\n",
            "\n"
          ],
          "name": "stdout"
        },
        {
          "output_type": "stream",
          "text": [
            "/usr/local/lib/python3.6/dist-packages/scipy/spatial/distance.py:720: RuntimeWarning: invalid value encountered in double_scalars\n",
            "  dist = 1.0 - uv / np.sqrt(uu * vv)\n"
          ],
          "name": "stderr"
        },
        {
          "output_type": "execute_result",
          "data": {
            "text/plain": [
              "'{\"Unnamed: 0\":{\"0\":0,\"1\":1,\"2\":2,\"3\":3,\"4\":4},\"Strain\":{\"0\":\"100-Og\",\"1\":\"98-White-Widow\",\"2\":\"1024\",\"3\":\"13-Dawgs\",\"4\":\"24K-Gold\"},\"Type\":{\"0\":\"hybrid\",\"1\":\"hybrid\",\"2\":\"sativa\",\"3\":\"hybrid\",\"4\":\"hybrid\"},\"Rating\":{\"0\":4.0,\"1\":4.7,\"2\":4.4,\"3\":4.2,\"4\":4.6},\"Effects\":{\"0\":\"Creative,Energetic,Tingly,Euphoric,Relaxed\",\"1\":\"Relaxed,Aroused,Creative,Happy,Energetic\",\"2\":\"Uplifted,Happy,Relaxed,Energetic,Creative\",\"3\":\"Tingly,Creative,Hungry,Relaxed,Uplifted\",\"4\":\"Happy,Relaxed,Euphoric,Uplifted,Talkative\"},\"Flavor\":{\"0\":\"Earthy,Sweet,Citrus\",\"1\":\"Flowery,Violet,Diesel\",\"2\":\"Spicy\\\\/Herbal,Sage,Woody\",\"3\":\"Apricot,Citrus,Grapefruit\",\"4\":\"Citrus,Earthy,Orange\"},\"Description\":{\"0\":\"$100 OG is a 50\\\\/50 hybrid strain that packs a strong punch. The name supposedly refers to both its strength and high price when it first started showing up in Hollywood. As a plant, $100 OG tends to produce large dark green buds with few stems. Users report a strong body effect of an indica for pain relief with the more alert, cerebral feeling thanks to its sativa side.\",\"1\":\"The \\\\u201898 Aloha White Widow is an especially potent cut of White Widow that has grown in renown alongside Hawaiian legends like Maui Wowie and Kona Gold. This White Widow phenotype reeks of diesel and skunk and has a rich earthy taste with intermittent notes of hash. Its buds are coated in trichomes, giving its dark foliage a lustrous glint to go along with its room-filling odor. This one-hitter-quitter uplifts the mind with mind-bending euphoria that materializes in the body as airy relaxation. \\\\u201898 Aloha White Widow is available from Pua Mana 1st Hawaiian Pakal\\\\u014dl\\\\u014d Seed Bank. \\\\u00a0\",\"2\":\"1024 is a sativa-dominant hybrid bred in Spain by Medical Seeds Co. The breeders claim to guard the secret genetics due to security reasons, but regardless of its genetic heritage, 1024 is a THC powerhouse with a sweet and spicy bouquet. Subtle fruit flavors mix with an herbal musk to produce uplifting sativa effects. One specific phenotype is noted for having a pungent odor that fills a room, similar to burning incense.\",\"3\":\"13 Dawgs is a hybrid of G13 and Chemdawg genetics bred by Canadian LP Delta 9 BioTech. The two potent strains mix to create a balance between indica and sativa effects. 13 Dawgs has a sweet earthy musk that brings a blend of woody\\\\u00a0citrus flavors. The effects of 13 Dawgs induce a happy, relaxed body buzz with a creative and focused mind that counters depression and stimulates the appetite.\",\"4\":\"Also known as Kosher Tangie, 24k Gold is a 60% indica-dominant hybrid that combines the legendary LA strain Kosher Kush with champion sativa Tangie to create something quite unique. Growing tall in its vegetative cycle and very stretchy in flower, this one will need an experienced hand when grown indoors. Most phenotypes will exhibit a sweet orange aroma from the Tangie along with the dark coloration of the Kosher Kush, and will offer a strong citrus flavor when smoked or vaped. THC levels range from 18% to 24%; definitely not for novice users!\\\\u00a0\"},\"symptoms_diseases\":{\"0\":\"ms, pain, pain, spasticity, \",\"1\":\"spasticity, \",\"2\":\"pain, pain, spasticity, \",\"3\":\"appetite, appetite, depression, spasticity, \",\"4\":\"spasticity, \"},\"score\":{\"0\":null,\"1\":null,\"2\":null,\"3\":null,\"4\":null}}'"
            ]
          },
          "metadata": {
            "tags": []
          },
          "execution_count": 1
        }
      ]
    }
  ]
}